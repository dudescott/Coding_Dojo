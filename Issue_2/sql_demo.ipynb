{
    "cells": [
        {
            "cell_type": "code",
            "execution_count": 15,
            "source": [
                "import sqlite3 as sql\r\n",
                "import pandas as pd"
            ],
            "outputs": [],
            "metadata": {}
        },
        {
            "cell_type": "code",
            "execution_count": 16,
            "source": [
                "# create and make a connection to the database file\r\n",
                "conn = sql.connect('dojo.db')"
            ],
            "outputs": [],
            "metadata": {}
        },
        {
            "cell_type": "code",
            "execution_count": 17,
            "source": [
                "# we will use pandas for easier file loading to the database\r\n",
                "csv_files = ['location', 'region', 'product', 'location_region', 'sales']\r\n",
                "for csv in csv_files:\r\n",
                "    df = pd.read_csv(f'.//db_files//{csv}.csv')\r\n",
                "    df.to_sql(csv, conn, if_exists='replace', index=False)"
            ],
            "outputs": [],
            "metadata": {}
        },
        {
            "cell_type": "code",
            "execution_count": 18,
            "source": [
                "# cursor is what is used to \"drive\" queries\r\n",
                "c = conn.cursor()"
            ],
            "outputs": [],
            "metadata": {}
        },
        {
            "cell_type": "code",
            "execution_count": 19,
            "source": [
                "# now that we have the database set up, we can query our data\r\n",
                "\r\n",
                "# simple query to pull all locations and their regions\r\n",
                "c.execute('select * from location_region')\r\n",
                "# fetchall retreives the results of the most recent execute statement\r\n",
                "print(c.fetchall())"
            ],
            "outputs": [
                {
                    "output_type": "stream",
                    "name": "stdout",
                    "text": [
                        "[('L001', 'R010'), ('L002', 'R005'), ('L003', 'R009'), ('L004', 'R001'), ('L005', 'R005'), ('L006', 'R006'), ('L007', 'R003'), ('L008', 'R003'), ('L009', 'R010'), ('L010', 'R010'), ('L011', 'R001'), ('L012', 'R005'), ('L013', 'R002'), ('L014', 'R002'), ('L015', 'R004'), ('L016', 'R004'), ('L017', 'R003'), ('L018', 'R009'), ('L019', 'R006'), ('L020', 'R003'), ('L021', 'R006'), ('L022', 'R002'), ('L023', 'R002'), ('L024', 'R010'), ('L025', 'R004'), ('L026', 'R005'), ('L027', 'R004'), ('L028', 'R001'), ('L029', 'R006'), ('L030', 'R007'), ('L031', 'R005'), ('L032', 'R007'), ('L033', 'R003'), ('L034', 'R004'), ('L035', 'R002'), ('L036', 'R009'), ('L037', 'R008'), ('L038', 'R007'), ('L039', 'R010'), ('L040', 'R006'), ('L041', 'R010'), ('L042', 'R004'), ('L043', 'R003'), ('L044', 'R009'), ('L045', 'R005'), ('L046', 'R006'), ('L047', 'R003'), ('L048', 'R008'), ('L049', 'R003'), ('L050', 'R002'), ('L051', 'R005')]\n"
                    ]
                }
            ],
            "metadata": {}
        },
        {
            "cell_type": "code",
            "execution_count": 27,
            "source": [
                "# let's pull the names for the locations and regions instead of the ids\r\n",
                "# for this we need to join the location, region, and location_region table \r\n",
                "# and use the where clause to show the feild that are the same \r\n",
                "c.execute(\"\"\"\r\n",
                "    select location_name, region_name\r\n",
                "    from location join region join location_region\r\n",
                "    where location.location_id == location_region.location_id\r\n",
                "        and region.region_id == location_region.region_id    \r\n",
                "\"\"\")\r\n",
                "print(c.fetchall())"
            ],
            "outputs": [
                {
                    "output_type": "stream",
                    "name": "stdout",
                    "text": [
                        "[('California', 'Far West'), ('Illinois', 'Great Lakes'), ('Delaware', 'Midsouth'), ('Iowa', 'Midwest'), ('Arizona', 'Mountain West'), ('Connecticut', 'New England'), ('New Jersey', 'Northeast'), ('Oregon', 'Northwest'), ('Arkansas', 'South Central'), ('Alabama', 'Southeast')]\n"
                    ]
                }
            ],
            "metadata": {}
        },
        {
            "cell_type": "code",
            "execution_count": 21,
            "source": [
                "# now we will look at some sales data\r\n",
                "# similar to the last query we will join the relevant tables and \r\n",
                "# show which field are the same\r\n",
                "c.execute(\"\"\"\r\n",
                "    select location_name, product_name, lbs, price_per_lb\r\n",
                "    from location join location_region join sales join product\r\n",
                "    where location.location_id == location_region.location_id\r\n",
                "        and location.location_id == sales.location_id\r\n",
                "        and sales.product_id = product.product_id \r\n",
                "\"\"\")\r\n",
                "print(c.fetchmany(20)) # just pull the first 20 (not the top 20; we will do that next)"
            ],
            "outputs": [
                {
                    "output_type": "stream",
                    "name": "stdout",
                    "text": [
                        "[('Alabama', 'Alfalfa pellets', 707.2, 4.68), ('Alabama', 'Apples, dried', 639.3, 4.63), ('Alabama', 'Chestnuts', 828.9, 1.07), ('Alabama', 'Chilled meat', 158.0, 1.21), ('Alabama', 'Corn', 712.1, 4.38), ('Alabama', 'Fabrics/cloth/textiles', 2.2, 3.05), ('Alabama', 'Flax tow', 916.7, 3.13), ('Alabama', 'Household appliances/white goods', 875.4, 1.84), ('Alabama', 'Kiwifruit', 843.3, 2.56), ('Alabama', 'Onions', 790.0, 4.46), ('Alabama', 'Palm kernel oil', 744.9, 2.89), ('Alabama', 'Peanut expeller', 795.4, 5.43), ('Alabama', 'Potatoes', 334.1, 1.76), ('Alabama', 'Raw sugar', 204.0, 3.26), ('Alabama', 'Roofing felt', 436.3, 2.61), ('Alabama', 'Sesame seed expeller', 88.4, 3.17), ('Alabama', 'Sunflower pellets', 83.4, 4.58), ('Alabama', 'Sunflower pellets', 972.8, 4.58), ('Alabama', 'Wool', 442.3, 4.5), ('Arizona', 'Avocados', 159.6, 2.62)]\n"
                    ]
                }
            ],
            "metadata": {}
        },
        {
            "cell_type": "code",
            "execution_count": 24,
            "source": [
                "# let's now look at the total price and sort the values\r\n",
                "c.execute(\"\"\"\r\n",
                "    select location_name, product_name, lbs, price_per_lb, (lbs * price_per_lb) price\r\n",
                "    from location join location_region join sales join product\r\n",
                "    where location.location_id == location_region.location_id\r\n",
                "        and location.location_id == sales.location_id\r\n",
                "        and sales.product_id = product.product_id \r\n",
                "    order by price desc\r\n",
                "\"\"\")\r\n",
                "print(c.fetchmany(20)) # just pull the first 20 (not the top 20; we will do that next)"
            ],
            "outputs": [
                {
                    "output_type": "stream",
                    "name": "stdout",
                    "text": [
                        "[('Ohio', 'Almonds', 835.7, 5.89, 4922.273), ('Oklahoma', 'Apples', 961.2, 5.11, 4911.732000000001), ('North Dakota', 'Almonds', 800.4, 5.89, 4714.356), ('Kansas', 'Carpets', 764.5, 5.76, 4403.5199999999995), ('Pennsylvania', 'Apples, dried', 893.4, 4.63, 4136.442), ('Kentucky', 'Alfalfa pellets', 746.5, 4.68, 3493.62), ('Texas', 'Almonds', 591.2, 5.89, 3482.168), ('South Carolina', 'Almonds', 585.9, 5.89, 3450.9509999999996), ('Alabama', 'Alfalfa pellets', 707.2, 4.68, 3309.696), ('Illinois', 'Barley', 714.5, 4.58, 3272.41), ('North Carolina', 'Beans, dried', 632.0, 4.96, 3134.72), ('Arkansas', 'Alfalfa pellets', 624.6, 4.68, 2923.1279999999997), ('Colorado', 'Almonds', 484.1, 5.89, 2851.349), ('Rhode Island', 'Bay leaves', 640.0, 4.28, 2739.2000000000003), ('New Mexico', 'Limes', 445.0, 5.94, 2643.3), ('Georgia', 'Capsicum', 553.7, 4.61, 2552.5570000000002), ('New York', 'Asparagus', 666.6, 3.74, 2493.0840000000003), ('Louisiana', 'Brewer�s grain pellets', 925.0, 2.66, 2460.5), ('Connecticut', 'Cottonseed', 826.8, 2.96, 2447.328), ('Wisconsin', 'Absorbent cotton', 843.8, 2.81, 2371.078)]\n"
                    ]
                }
            ],
            "metadata": {}
        },
        {
            "cell_type": "code",
            "execution_count": 9,
            "source": [
                "# we can print this a little prettier\r\n",
                "print(f'Name, Product, Price')\r\n",
                "lines = c.fetchmany(50)\r\n",
                "for line in lines:\r\n",
                "    print(f'{line[0]}, {line[1]}, ${line[4]:.2f}')"
            ],
            "outputs": [
                {
                    "output_type": "stream",
                    "name": "stdout",
                    "text": [
                        "Name, Product, Price\n",
                        "Kentucky, Candy sugar, $4776.49\n",
                        "Wyoming, Almonds, $4749.70\n",
                        "North Dakota, Almonds, $4714.36\n",
                        "North Carolina, Mangos, $4711.27\n",
                        "Indiana, Peanut expeller, $4666.54\n",
                        "Florida, Chocolate, solid, $4635.90\n",
                        "Washington, Artichokes, $4630.75\n",
                        "Kansas, Oranges, $4558.18\n",
                        "New Hampshire, Wheat bran pellets, $4504.56\n",
                        "Florida, Sesame oil, $4474.25\n",
                        "Alabama, Sunflower pellets, $4455.42\n",
                        "Iowa, Ramie, $4454.16\n",
                        "Kansas, Carpets, $4403.52\n",
                        "Colorado, Copra expeller, $4402.48\n",
                        "Wisconsin, Caraway, $4396.30\n",
                        "California, Mustard oil, $4364.98\n",
                        "Alabama, Peanut expeller, $4319.02\n",
                        "Arizona, Chocolate, solid, $4286.04\n",
                        "West Virginia, Hemp oil, $4282.20\n",
                        "South Carolina, Palm oil, $4253.59\n",
                        "Virginia, Frozen meat, $4209.03\n",
                        "Kentucky, Bay leaves, $4195.68\n",
                        "Ohio, Palm oil, $4172.94\n",
                        "Washington, Newsprint, $4168.63\n",
                        "District of Columbia, Sunflower pellets, $4136.66\n",
                        "Pennsylvania, Apples, dried, $4136.44\n",
                        "Kansas, Sunflower pellets, $4036.35\n",
                        "New Hampshire, Cottonseed oil, $4017.66\n",
                        "Puerto Rico, Peanut expeller, $3995.94\n",
                        "Iowa, Apricot kernels, $3947.98\n",
                        "Louisiana, Wheat, $3911.04\n",
                        "South Dakota, Tobacco, leaf tobacco, $3900.90\n",
                        "Kansas, Corn gluten pellets, $3898.88\n",
                        "Wisconsin, Ramie, $3895.90\n",
                        "Wisconsin, Veneer, $3885.06\n",
                        "Louisiana, Chair cane, $3878.11\n",
                        "New Jersey, Mace, $3848.43\n",
                        "Oregon, Machinery, machine parts, $3810.24\n",
                        "Utah, Machinery, machine parts, $3782.81\n",
                        "South Dakota, Rum, $3777.80\n",
                        "Hawaii, Limes, $3776.06\n",
                        "Kansas, Cheese, $3749.03\n",
                        "Georgia, Cotton, $3689.51\n",
                        "California, Linseed oil, $3681.40\n",
                        "Tennessee, Wool, $3660.75\n",
                        "Illinois, Wheat bran pellets, $3649.13\n",
                        "Delaware, Artichokes, $3626.51\n",
                        "Kansas, Peanut expeller, $3613.66\n",
                        "Maryland, Peanut expeller, $3613.66\n",
                        "West Virginia, Rice bran pellets, $3605.30\n"
                    ]
                }
            ],
            "metadata": {}
        },
        {
            "cell_type": "code",
            "execution_count": 14,
            "source": [
                "# last query we will take some user input for a region and how the sales by product\r\n",
                "# lets start by getting the available regions\r\n",
                "c.execute('select region_name from region')\r\n",
                "regions = [reg[0] for reg in c.fetchall()] # fetchall returns tuple of lists, convert to just a list\r\n",
                "region = ''\r\n",
                "while True:\r\n",
                "    print('Avaiable regions: ' + ', '.join(regions)) # show the valid regions\r\n",
                "    region = input('What input would you like to see sales data for? ') # ask user for input\r\n",
                "    # if the input is valid, we can break the loop, else ask for input again\r\n",
                "    if region not in regions:\r\n",
                "        print(\"Invalid Input!\")\r\n",
                "    else:\r\n",
                "        break\r\n",
                "\r\n",
                "# query the database using the user's input\r\n",
                "# we need to introduce the group by clause since the products are \r\n",
                "# associated with with locations, not regions\r\n",
                "# we also will use the where clause to test for only the region we want\r\n",
                "c.execute(\"\"\"\r\n",
                "    select region_name, product_name, (lbs * price_per_lb) price\r\n",
                "    from region join location_region join sales join product\r\n",
                "    where region.region_id == location_region.region_id\r\n",
                "        and location_region.location_id == sales.location_id\r\n",
                "        and sales.product_id = product.product_id \r\n",
                "        and region_name = ?\r\n",
                "    order by price desc\r\n",
                "\"\"\", (region,)) # when only using one parameter in the query you need an extra comma and the end of the tuple being passed in\r\n",
                "\r\n",
                "results = c.fetchall()\r\n",
                "print(f'Results for {region}\\nProduct, Price')\r\n",
                "print('-'*30)\r\n",
                "for line in results:\r\n",
                "    print(f'{line[1]}, ${line[2]:.2f}')"
            ],
            "outputs": [
                {
                    "output_type": "stream",
                    "name": "stdout",
                    "text": [
                        "Avaiable regions: Far West, Great Lakes, Midsouth, Midwest, Mountain West, New England, Northeast, Northwest, South Central, Southeast\n",
                        "Results for Far West\n",
                        "Product, Price\n",
                        "------------------------------\n",
                        "Natural rubber, $4975.56\n",
                        "Mustard oil, $4364.98\n",
                        "Limes, $3776.06\n",
                        "Linseed oil, $3681.40\n",
                        "Wool, $3438.00\n",
                        "Sunflower pellets, $3244.01\n",
                        "Rice bran pellets, $2578.33\n",
                        "Tomatoes, $2508.32\n",
                        "Copra, $2504.90\n",
                        "Preserved foods, general, $2400.55\n",
                        "Sage leaves, $2305.51\n",
                        "Raffia, $2297.46\n",
                        "Cucumbers, $2260.90\n",
                        "Absorbent cotton, $2233.11\n",
                        "Pepper, $2151.19\n",
                        "Wire rod, $2025.38\n",
                        "Sesame oil, $1965.15\n",
                        "Natural rubber, $1799.44\n",
                        "Peanut oil, $1731.59\n",
                        "Cherries, $1627.92\n",
                        "Photographic paper, $1456.32\n",
                        "Sunflower oil, $1411.93\n",
                        "Mustard oil, $1273.27\n",
                        "Peanut oil, $1015.10\n",
                        "Kapok seed oil, $986.46\n",
                        "Mandarins, $933.41\n",
                        "Cinnamon, $909.44\n",
                        "Garlic, $846.50\n",
                        "Coconut oil, $828.52\n",
                        "Apricots, dried, $676.09\n",
                        "Castor oil, $622.75\n",
                        "Coriander, $537.89\n",
                        "Chilled meat, $371.83\n",
                        "Synthetic rubber, $336.44\n",
                        "Cashew nuts, $176.67\n",
                        "Linseed oil, $145.39\n",
                        "Peaches/nectarines, $121.24\n",
                        "Synthetic rubber, $90.21\n",
                        "Copra extraction meal, $31.88\n"
                    ]
                }
            ],
            "metadata": {}
        },
        {
            "cell_type": "code",
            "execution_count": null,
            "source": [
                "# last step we need is to close the connection to the database\r\n",
                "conn.close()"
            ],
            "outputs": [],
            "metadata": {}
        }
    ],
    "metadata": {
        "orig_nbformat": 4,
        "language_info": {
            "name": "python",
            "version": "3.9.4",
            "mimetype": "text/x-python",
            "codemirror_mode": {
                "name": "ipython",
                "version": 3
            },
            "pygments_lexer": "ipython3",
            "nbconvert_exporter": "python",
            "file_extension": ".py"
        },
        "kernelspec": {
            "name": "python3",
            "display_name": "Python 3.9.4 64-bit"
        },
        "interpreter": {
            "hash": "0661617b85a873d2b1e7e492c37ac824eb06450b9a7a1e234e76f5a79ca18d3f"
        }
    },
    "nbformat": 4,
    "nbformat_minor": 2
}