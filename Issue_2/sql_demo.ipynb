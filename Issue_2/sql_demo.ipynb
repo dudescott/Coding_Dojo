{
    "cells": [
        {
            "cell_type": "code",
            "execution_count": null,
            "source": [
                "import sqlite3 as sql\r\n",
                "import pandas as pd"
            ],
            "outputs": [],
            "metadata": {}
        },
        {
            "cell_type": "code",
            "execution_count": null,
            "source": [
                "# create and make a connection to the database file\r\n",
                "conn = sql.connect('dojo.db')"
            ],
            "outputs": [],
            "metadata": {}
        },
        {
            "cell_type": "code",
            "execution_count": null,
            "source": [
                "# we will use pandas for easier file loading to the database\r\n",
                "csv_files = ['location', 'region', 'product', 'location_region', 'sales']\r\n",
                "for csv in csv_files:\r\n",
                "    df = pd.read_csv(f'.//db_files//{csv}.csv')\r\n",
                "    df.to_sql(csv, conn, if_exists='replace', index=False)"
            ],
            "outputs": [],
            "metadata": {}
        },
        {
            "cell_type": "code",
            "execution_count": null,
            "source": [
                "# cursor is what is used to \"drive\" queries\r\n",
                "c = conn.cursor()"
            ],
            "outputs": [],
            "metadata": {}
        },
        {
            "cell_type": "code",
            "execution_count": null,
            "source": [
                "# now that we have the database set up, we can query our data\r\n",
                "\r\n",
                "# simple query to pull all locations and their regions\r\n",
                "c.execute('select * from location_region')\r\n",
                "# fetchall retreives the results of the most recent execute statement\r\n",
                "print(c.fetchall())"
            ],
            "outputs": [],
            "metadata": {}
        },
        {
            "cell_type": "code",
            "execution_count": null,
            "source": [
                "# let's pull the names for the locations and regions instead of the ids\r\n",
                "# for this we need to join the location, region, and location_region table \r\n",
                "# and use the where clause to show the feild that are the same \r\n",
                "c.execute(\"\"\"\r\n",
                "    select location_name, region_name\r\n",
                "    from location join region join location_region\r\n",
                "    where location.location_id == location_region.location_id\r\n",
                "        and region.region_id == location_region.region_id    \r\n",
                "\"\"\")\r\n",
                "print(c.fetchall())"
            ],
            "outputs": [],
            "metadata": {}
        },
        {
            "cell_type": "code",
            "execution_count": null,
            "source": [
                "# now we will look at some sales data\r\n",
                "# similar to the last query we will join the relevant tables and \r\n",
                "# show which field are the same\r\n",
                "c.execute(\"\"\"\r\n",
                "    select location_name, product_name, lbs, price_per_lb\r\n",
                "    from location join location_region join sales join product\r\n",
                "    where location.location_id == location_region.location_id\r\n",
                "        and location.location_id == sales.location_id\r\n",
                "        and sales.product_id = product.product_id \r\n",
                "\"\"\")\r\n",
                "print(c.fetchmany(20)) # just pull the first 20 (not the top 20; we will do that next)"
            ],
            "outputs": [],
            "metadata": {}
        },
        {
            "cell_type": "code",
            "execution_count": null,
            "source": [
                "# let's now look at the total price and sort the values\r\n",
                "c.execute(\"\"\"\r\n",
                "    select location_name, product_name, lbs, price_per_lb, (lbs * price_per_lb) price\r\n",
                "    from location join location_region join sales join product\r\n",
                "    where location.location_id == location_region.location_id\r\n",
                "        and location.location_id == sales.location_id\r\n",
                "        and sales.product_id = product.product_id \r\n",
                "    order by price desc\r\n",
                "\"\"\")\r\n",
                "print(c.fetchmany(20)) # just pull the first 20 (not the top 20; we will do that next)"
            ],
            "outputs": [],
            "metadata": {}
        },
        {
            "cell_type": "code",
            "execution_count": null,
            "source": [
                "# we can print this a little prettier\r\n",
                "print(f'Name, Product, Price')\r\n",
                "lines = c.fetchmany(50)\r\n",
                "for line in lines:\r\n",
                "    print(f'{line[0]}, {line[1]}, ${line[4]:.2f}')"
            ],
            "outputs": [],
            "metadata": {}
        },
        {
            "cell_type": "code",
            "execution_count": null,
            "source": [
                "# last query we will take some user input for a region and how the sales by product\r\n",
                "# lets start by getting the available regions\r\n",
                "c.execute('select region_name from region')\r\n",
                "regions = [reg[0] for reg in c.fetchall()] # fetchall returns tuple of lists, convert to just a list\r\n",
                "region = ''\r\n",
                "while True:\r\n",
                "    print('Avaiable regions: ' + ', '.join(regions)) # show the valid regions\r\n",
                "    region = input('What input would you like to see sales data for? ') # ask user for input\r\n",
                "    # if the input is valid, we can break the loop, else ask for input again\r\n",
                "    if region not in regions:\r\n",
                "        print(\"Invalid Input!\")\r\n",
                "    else:\r\n",
                "        break\r\n",
                "\r\n",
                "# query the database using the user's input\r\n",
                "# we need to introduce the group by clause since the products are \r\n",
                "# associated with with locations, not regions\r\n",
                "# we also will use the where clause to test for only the region we want\r\n",
                "c.execute(\"\"\"\r\n",
                "    select region_name, product_name, (lbs * price_per_lb) price\r\n",
                "    from region join location_region join sales join product\r\n",
                "    where region.region_id == location_region.region_id\r\n",
                "        and location_region.location_id == sales.location_id\r\n",
                "        and sales.product_id = product.product_id \r\n",
                "        and region_name = ?\r\n",
                "    order by price desc\r\n",
                "\"\"\", (region,)) # when only using one parameter in the query you need an extra comma and the end of the tuple being passed in\r\n",
                "\r\n",
                "results = c.fetchall()\r\n",
                "print(f'Results for {region}\\nProduct, Price')\r\n",
                "print('-'*30)\r\n",
                "for line in results:\r\n",
                "    print(f'{line[1]}, ${line[2]:.2f}')"
            ],
            "outputs": [],
            "metadata": {}
        },
        {
            "cell_type": "code",
            "execution_count": null,
            "source": [
                "# last step we need is to close the connection to the database\r\n",
                "conn.close()"
            ],
            "outputs": [],
            "metadata": {}
        }
    ],
    "metadata": {
        "orig_nbformat": 4,
        "language_info": {
            "name": "python",
            "version": "3.9.4",
            "mimetype": "text/x-python",
            "codemirror_mode": {
                "name": "ipython",
                "version": 3
            },
            "pygments_lexer": "ipython3",
            "nbconvert_exporter": "python",
            "file_extension": ".py"
        },
        "kernelspec": {
            "name": "python3",
            "display_name": "Python 3.9.4 64-bit"
        },
        "interpreter": {
            "hash": "0661617b85a873d2b1e7e492c37ac824eb06450b9a7a1e234e76f5a79ca18d3f"
        }
    },
    "nbformat": 4,
    "nbformat_minor": 2
}